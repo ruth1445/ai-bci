{
 "cells": [
  {
   "cell_type": "code",
   "execution_count": 2,
   "id": "d1972afe-10e4-4b70-b8cc-f6b8a46c5e62",
   "metadata": {},
   "outputs": [
    {
     "name": "stdout",
     "output_type": "stream",
     "text": [
      "Extracting EDF parameters from /Users/ruthsharon/mne_data/MNE-eegbci-data/files/eegmmidb/1.0.0/S001/S001R06.edf...\n",
      "EDF file detected\n",
      "Setting channel info structure...\n",
      "Creating raw.info structure...\n",
      "Reading 0 ... 19999  =      0.000 ...   124.994 secs...\n",
      "Extracting EDF parameters from /Users/ruthsharon/mne_data/MNE-eegbci-data/files/eegmmidb/1.0.0/S001/S001R10.edf...\n",
      "EDF file detected\n",
      "Setting channel info structure...\n",
      "Creating raw.info structure...\n",
      "Reading 0 ... 19999  =      0.000 ...   124.994 secs...\n",
      "NOTE: pick_channels() is a legacy function. New code should use inst.pick(...).\n",
      "Filtering raw data in 2 contiguous segments\n",
      "Setting up band-pass filter from 7 - 30 Hz\n",
      "\n",
      "FIR filter parameters\n",
      "---------------------\n",
      "Designing a one-pass, zero-phase, non-causal bandpass filter:\n",
      "- Windowed time-domain design (firwin) method\n",
      "- Hamming window with 0.0194 passband ripple and 53 dB stopband attenuation\n",
      "- Lower passband edge: 7.00\n",
      "- Lower transition bandwidth: 2.00 Hz (-6 dB cutoff frequency: 6.00 Hz)\n",
      "- Upper passband edge: 30.00 Hz\n",
      "- Upper transition bandwidth: 7.50 Hz (-6 dB cutoff frequency: 33.75 Hz)\n",
      "- Filter length: 265 samples (1.656 s)\n",
      "\n",
      "Used Annotations descriptions: [np.str_('T0'), np.str_('T1'), np.str_('T2')]\n",
      "Event IDs: {np.str_('T0'): 1, np.str_('T1'): 2, np.str_('T2'): 3}\n",
      "Not setting metadata\n",
      "30 matching events found\n",
      "No baseline correction applied\n",
      "0 projection items activated\n",
      "Using data from preloaded Raw for 30 events and 513 original time points ...\n",
      "0 bad epochs dropped\n",
      "EEG data shape (X): (30, 2, 513)\n",
      "Binary labels (y): [1 0 0 1 0 1 1 0 0 1 1 0 0 1 1 0 1 1 0 1 0 0 1 1 0 0 1 1 0 1]\n",
      "Computing rank from data with rank=None\n",
      "    Using tolerance 1.4e-06 (2.2e-16 eps * 2 dim * 3.1e+09  max singular value)\n",
      "    Estimated rank (data): 2\n",
      "    data: rank 2 computed from 2 data channels with 0 projectors\n",
      "Reducing data rank from 2 -> 2\n",
      "Estimating class=0 covariance using EMPIRICAL\n",
      "Done.\n",
      "Estimating class=1 covariance using EMPIRICAL\n",
      "Done.\n",
      "Classification Accuracy: 83.33%\n"
     ]
    }
   ],
   "source": [
    "from preprocessing.eeg_data import load_and_preprocess, extract_epochs_and_labels\n",
    "from models.csp import run_csp_svm\n",
    "\n",
    "# Step 1: Load + preprocess EEG\n",
    "raw = load_and_preprocess()\n",
    "X, y = extract_epochs_and_labels(raw)\n",
    "\n",
    "# Step 2: Train CSP + SVM\n",
    "accuracy, model = run_csp_svm(X, y)\n",
    "\n",
    "print(f\"Classification Accuracy: {accuracy * 100:.2f}%\")\n"
   ]
  },
  {
   "cell_type": "code",
   "execution_count": 1,
   "id": "7b1b1fab-a884-4c48-8375-88fc7354cd65",
   "metadata": {},
   "outputs": [
    {
     "name": "stdout",
     "output_type": "stream",
     "text": [
      "Fantastic job on completing your motor imagery trial! Your ability to imagine moving your right hand with such clarity and precision is truly impressive, as shown by the high confidence prediction by the brain-signal classifier. Keep harnessing this focus and continue practicing regularly. Each session strengthens the connection between your mind and body, boosting your ability to control your thoughts with intention. Keep up the great work—you’re making amazing progress!\n"
     ]
    }
   ],
   "source": [
    "from llm.feedback_generator import generate_feedback\n",
    "\n",
    "prediction = 1  \n",
    "confidence = 0.91\n",
    "\n",
    "feedback = generate_feedback(prediction, confidence)\n",
    "print(feedback)\n"
   ]
  },
  {
   "cell_type": "code",
   "execution_count": 2,
   "id": "92c3987b-6617-43fd-9dad-9f41f708067a",
   "metadata": {},
   "outputs": [
    {
     "name": "stdout",
     "output_type": "stream",
     "text": [
      "Fantastic job! Your focused effort on imagining right-hand movement paid off, and the brain-signal classifier recognized it with high confidence. Keep up the great work by maintaining this level of concentration. Each session strengthens your neural pathways, so let's continue building on this success. You're making incredible progress!\n"
     ]
    }
   ],
   "source": [
    "feedback = generate_feedback(1, confidence=0.91)\n",
    "print(feedback)"
   ]
  },
  {
   "cell_type": "code",
   "execution_count": 2,
   "id": "d2de239b-fdf4-48f3-b8d6-021bc1b8472c",
   "metadata": {},
   "outputs": [
    {
     "ename": "NameError",
     "evalue": "name 'model' is not defined",
     "output_type": "error",
     "traceback": [
      "\u001b[31m---------------------------------------------------------------------------\u001b[39m",
      "\u001b[31mNameError\u001b[39m                                 Traceback (most recent call last)",
      "\u001b[36mCell\u001b[39m\u001b[36m \u001b[39m\u001b[32mIn[2]\u001b[39m\u001b[32m, line 4\u001b[39m\n\u001b[32m      1\u001b[39m \u001b[38;5;28;01mfrom\u001b[39;00m\u001b[38;5;250m \u001b[39m\u001b[34;01mmodels\u001b[39;00m\u001b[34;01m.\u001b[39;00m\u001b[34;01mmeta_model\u001b[39;00m\u001b[38;5;250m \u001b[39m\u001b[38;5;28;01mimport\u001b[39;00m build_meta_dataset, train_meta_model, predict_correctness\n\u001b[32m      3\u001b[39m \u001b[38;5;66;03m# Step 1: Reuse CSP + SVM model on full data\u001b[39;00m\n\u001b[32m----> \u001b[39m\u001b[32m4\u001b[39m csp = \u001b[43mmodel\u001b[49m.named_steps[\u001b[33m'\u001b[39m\u001b[33mcsp\u001b[39m\u001b[33m'\u001b[39m]\n\u001b[32m      5\u001b[39m svm = model.named_steps[\u001b[33m'\u001b[39m\u001b[33msvm\u001b[39m\u001b[33m'\u001b[39m]\n\u001b[32m      6\u001b[39m X_csp = csp.transform(X)\n",
      "\u001b[31mNameError\u001b[39m: name 'model' is not defined"
     ]
    }
   ],
   "source": [
    "from models.meta_model import build_meta_dataset, train_meta_model, predict_correctness\n",
    "\n",
    "# Step 1: Reuse CSP + SVM model on full data\n",
    "csp = model.named_steps['csp']\n",
    "svm = model.named_steps['svm']\n",
    "X_csp = csp.transform(X)\n",
    "\n",
    "# Step 2: Build meta-training data\n",
    "meta_X, meta_y = build_meta_dataset(svm, X_csp, y)\n",
    "\n",
    "# Step 3: Train meta-model\n",
    "meta_model = train_meta_model(meta_X, meta_y)\n",
    "\n",
    "# Step 4: Predict reliability of new trial\n",
    "confidence = svm.decision_function([X_csp[0]])[0]\n",
    "reliability = predict_correctness(meta_model, confidence)\n",
    "\n",
    "print(f\"Predicted reliability (probability of being correct): {reliability:.2f}\")"
   ]
  },
  {
   "cell_type": "code",
   "execution_count": null,
   "id": "181a7148-2de2-4eba-ad06-00e2867eec68",
   "metadata": {},
   "outputs": [],
   "source": []
  }
 ],
 "metadata": {
  "kernelspec": {
   "display_name": "Python 3 (ipykernel)",
   "language": "python",
   "name": "python3"
  },
  "language_info": {
   "codemirror_mode": {
    "name": "ipython",
    "version": 3
   },
   "file_extension": ".py",
   "mimetype": "text/x-python",
   "name": "python",
   "nbconvert_exporter": "python",
   "pygments_lexer": "ipython3",
   "version": "3.12.8"
  }
 },
 "nbformat": 4,
 "nbformat_minor": 5
}
